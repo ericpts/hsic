{
 "cells": [
  {
   "cell_type": "code",
   "execution_count": 46,
   "metadata": {},
   "outputs": [
    {
     "name": "stderr",
     "output_type": "stream",
     "text": [
      "/home/ericpts/.local/lib/python3.8/site-packages/tqdm/std.py:668: FutureWarning: The Panel class is removed from pandas. Accessing it from the top-level namespace will also be removed in the next version\n",
      "  from pandas import Panel\n"
     ]
    }
   ],
   "source": [
    "import argparse\n",
    "import concurrent.futures\n",
    "import json\n",
    "import os\n",
    "import subprocess\n",
    "import sys\n",
    "from collections import defaultdict\n",
    "from pathlib import Path\n",
    "from typing import Any, Callable, Dict, List, Optional\n",
    "\n",
    "import dash_core_components as dcc\n",
    "import dash_html_components as html\n",
    "import gin\n",
    "import lib_analysis\n",
    "import lib_biased_mnist\n",
    "import lib_plot\n",
    "import lib_problem\n",
    "import lib_toy\n",
    "import matplotlib.pyplot as plt\n",
    "import numpy as np\n",
    "import pandas as pd\n",
    "import plotly.express as px\n",
    "import plotly.graph_objects as go\n",
    "import seaborn as sns\n",
    "import sklearn\n",
    "import sklearn.metrics\n",
    "import tensorflow as tf\n",
    "import tensorflow_probability as tfp\n",
    "import yaml\n",
    "from jupyter_dash import JupyterDash\n",
    "from PIL import Image\n",
    "from tqdm import tqdm\n",
    "\n",
    "external_stylesheets = [\"https://codepen.io/chriddyp/pen/bWLwgP.css\"]\n",
    "\n",
    "tqdm.pandas()\n",
    "gin.enter_interactive_mode()"
   ]
  },
  {
   "cell_type": "code",
   "execution_count": 3,
   "metadata": {},
   "outputs": [],
   "source": [
    "%load_ext autoreload\n",
    "%autoreload 2"
   ]
  },
  {
   "cell_type": "code",
   "execution_count": 176,
   "metadata": {},
   "outputs": [],
   "source": [
    "def read_df(data_root: Path, experiment_name: str) -> pd.DataFrame:\n",
    "    df_path = data_root / experiment_name / \"df.pickle\"\n",
    "    if df_path.exists():\n",
    "        print(f\"Found cached df at {df_path}. Reusing...\", flush=True)\n",
    "        return pd.read_pickle(str(df_path))\n",
    "\n",
    "    DF = lib_analysis.read_problem(data_root, experiment_name)\n",
    "    DF = lib_analysis.add_statistics_to_df(DF)\n",
    "\n",
    "    DF.to_pickle(str(df_path), protocol=4)\n",
    "    return DF"
   ]
  },
  {
   "cell_type": "code",
   "execution_count": 205,
   "metadata": {},
   "outputs": [
    {
     "name": "stdout",
     "output_type": "stream",
     "text": [
      "Found cached df at ../data/biased_mnist_10_digits/df.pickle. Reusing...\n"
     ]
    }
   ],
   "source": [
    "data_root = Path(\"../data/\")\n",
    "DF = read_df(data_root, \"biased_mnist_10_digits\")\n",
    "\n",
    "gin.parse_config_file(\n",
    "    DF[\"gin_config_file\"].iloc[0].replace(\"biased_mnist\", \"biased_mnist_10_digits\")\n",
    ")\n",
    "\n",
    "problem = lib_biased_mnist.BiasedMnistProblem()\n",
    "in_dist = problem.generate_id_testing_data(include_bias=True)\n",
    "oo_dist = problem.generate_ood_testing_data(include_bias=True)"
   ]
  },
  {
   "cell_type": "code",
   "execution_count": 169,
   "metadata": {},
   "outputs": [],
   "source": [
    "def compute_ensemble_distribution(y_hat):\n",
    "    m_1, m_2 = y_hat[:, 0, :], y_hat[:, 1, :]\n",
    "    y_hat_ensemble = (m_1 + m_2) / 2\n",
    "    return y_hat_ensemble\n",
    "\n",
    "\n",
    "def pmax(y_hat_ensemble, _y_hat):\n",
    "    return tf.math.reduce_max(y_hat_ensemble, axis=1)\n",
    "\n",
    "\n",
    "def entropy(y_hat_ensemble, _y_hat):\n",
    "    return -tf.math.reduce_sum(y_hat_ensemble * tf.math.log(y_hat_ensemble), axis=1)\n",
    "\n",
    "\n",
    "def max_diff(y_hat_ensemble, y_hat):\n",
    "    per_model = []\n",
    "    for im in range(2):\n",
    "        per_model.append(\n",
    "            tf.math.reduce_max(tf.math.abs(y_hat_ensemble - y_hat[:, im, :]), axis=1)\n",
    "        )\n",
    "    ret = tf.math.reduce_max(per_model, axis=0)\n",
    "    return ret\n",
    "\n",
    "\n",
    "def average_diff(y_hat_ensemble, y_hat):\n",
    "    per_model = []\n",
    "    for im in range(2):\n",
    "        per_model.append(\n",
    "            tf.math.reduce_mean(tf.math.abs(y_hat_ensemble - y_hat[:, im, :]), axis=1)\n",
    "        )\n",
    "    ret = tf.math.reduce_mean(per_model, axis=0)\n",
    "    return ret"
   ]
  },
  {
   "cell_type": "code",
   "execution_count": 165,
   "metadata": {},
   "outputs": [],
   "source": [
    "def compute_auroc(in_y_hat, oo_y_hat, f_ensemble_score, higher_score_is_ood=True):\n",
    "    id_score = f_ensemble_score(compute_ensemble_distribution(in_y_hat), in_y_hat)\n",
    "    oo_score = f_ensemble_score(compute_ensemble_distribution(oo_y_hat), oo_y_hat)\n",
    "\n",
    "    if higher_score_is_ood:\n",
    "        id_label, oo_label = 0, 1\n",
    "    else:\n",
    "        id_label, oo_label = 1, 0\n",
    "\n",
    "    y_true = tf.convert_to_tensor(\n",
    "        ([id_label] * id_score.shape[0]) + ([oo_label] * oo_score.shape[0])\n",
    "    )\n",
    "    y_score = tf.concat([id_score, oo_score], axis=0)\n",
    "    return sklearn.metrics.roc_auc_score(y_true, y_score)"
   ]
  },
  {
   "cell_type": "code",
   "execution_count": 171,
   "metadata": {},
   "outputs": [],
   "source": [
    "def compute_metrics(in_y_hat, oo_y_hat):\n",
    "    return {\n",
    "        \"pmax\": compute_auroc(in_y_hat, oo_y_hat, pmax, higher_score_is_ood=False),\n",
    "        \"entropy\": compute_auroc(in_y_hat, oo_y_hat, entropy),\n",
    "        \"max_diff\": compute_auroc(in_y_hat, oo_y_hat, max_diff),\n",
    "        \"average_diff\": compute_auroc(in_y_hat, oo_y_hat, average_diff),\n",
    "    }"
   ]
  },
  {
   "cell_type": "code",
   "execution_count": 218,
   "metadata": {},
   "outputs": [],
   "source": [
    "def compute_metrics_for_row(row: pd.Series):\n",
    "    models = []\n",
    "    for p in df[\"model_paths\"].iloc[0]:\n",
    "        p = str(p).replace(\"biased_mnist\", \"biased_mnist_10_digits\")\n",
    "        m = tf.keras.models.load_model(p, compile=False)\n",
    "        models.append(m)\n",
    "\n",
    "    in_X, in_y, in_y_biased, in_y_hat = lib_analysis.process_dataset(in_dist, models)\n",
    "    oo_X, oo_y, oo_y_biased, oo_y_hat = lib_analysis.process_dataset(oo_dist, models)\n",
    "    return compute_metrics(in_y_hat, oo_y_hat)"
   ]
  },
  {
   "cell_type": "code",
   "execution_count": 238,
   "metadata": {},
   "outputs": [],
   "source": [
    "DF = DF[DF[\"indep\"] == \"cka\"]"
   ]
  },
  {
   "cell_type": "code",
   "execution_count": null,
   "metadata": {},
   "outputs": [
    {
     "name": "stderr",
     "output_type": "stream",
     "text": [
      " 15%|█▍        | 154/1050 [03:54<19:43,  1.32s/it]"
     ]
    }
   ],
   "source": [
    "DF = lib_analysis.add_columns_to_df(\n",
    "    DF, DF.progress_apply(compute_metrics_for_row, axis=1)\n",
    ")"
   ]
  },
  {
   "cell_type": "code",
   "execution_count": null,
   "metadata": {},
   "outputs": [],
   "source": []
  }
 ],
 "metadata": {
  "kernelspec": {
   "display_name": "Python 3",
   "language": "python",
   "name": "python3"
  },
  "language_info": {
   "codemirror_mode": {
    "name": "ipython",
    "version": 3
   },
   "file_extension": ".py",
   "mimetype": "text/x-python",
   "name": "python",
   "nbconvert_exporter": "python",
   "pygments_lexer": "ipython3",
   "version": "3.8.5"
  }
 },
 "nbformat": 4,
 "nbformat_minor": 4
}
