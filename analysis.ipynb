{
 "cells": [
  {
   "cell_type": "code",
   "execution_count": 4,
   "metadata": {},
   "outputs": [],
   "source": [
    "import seaborn as sns\n",
    "import concurrent.futures\n",
    "import argparse\n",
    "import numpy as np\n",
    "import subprocess\n",
    "import os\n",
    "from pathlib import Path\n",
    "from typing import List, Optional\n",
    "import json\n",
    "import pandas as pd\n",
    "from collections import defaultdict \n",
    "import yaml\n",
    "import json\n",
    "import gin\n",
    "from typing import Dict, Any\n",
    "\n",
    "import lib_analysis\n",
    "import lib_biased_mnist\n"
   ]
  },
  {
   "cell_type": "code",
   "execution_count": 27,
   "metadata": {},
   "outputs": [],
   "source": [
    "DF = lib_analysis.read_problem('biased_mnist')"
   ]
  },
  {
   "cell_type": "code",
   "execution_count": 5,
   "metadata": {},
   "outputs": [],
   "source": [
    "models = [lib_biased_mnist.make_base_mlp_model() for _ in range(2)]"
   ]
  },
  {
   "cell_type": "code",
   "execution_count": 26,
   "metadata": {},
   "outputs": [
    {
     "name": "stdout",
     "output_type": "stream",
     "text": [
      "dict_keys(['dense/kernel:0', 'dense_1/kernel:0', 'dense_1/bias:0'])\n",
      "dense/kernel:0\n",
      "dict_keys(['dense/kernel:0', 'dense_1/kernel:0', 'dense_1/bias:0'])\n",
      "dense/bias:0\n"
     ]
    },
    {
     "ename": "AssertionError",
     "evalue": "",
     "output_type": "error",
     "traceback": [
      "\u001b[0;31m---------------------------------------------------------------------------\u001b[0m",
      "\u001b[0;31mAssertionError\u001b[0m                            Traceback (most recent call last)",
      "\u001b[0;32m<ipython-input-26-6c7b4dad57e9>\u001b[0m in \u001b[0;36m<module>\u001b[0;34m\u001b[0m\n\u001b[1;32m      3\u001b[0m     \u001b[0mprint\u001b[0m\u001b[0;34m(\u001b[0m\u001b[0mw\u001b[0m\u001b[0;34m.\u001b[0m\u001b[0mkeys\u001b[0m\u001b[0;34m(\u001b[0m\u001b[0;34m)\u001b[0m\u001b[0;34m)\u001b[0m\u001b[0;34m\u001b[0m\u001b[0;34m\u001b[0m\u001b[0m\n\u001b[1;32m      4\u001b[0m     \u001b[0mprint\u001b[0m\u001b[0;34m(\u001b[0m\u001b[0mv\u001b[0m\u001b[0;34m.\u001b[0m\u001b[0mname\u001b[0m\u001b[0;34m)\u001b[0m\u001b[0;34m\u001b[0m\u001b[0;34m\u001b[0m\u001b[0m\n\u001b[0;32m----> 5\u001b[0;31m     \u001b[0;32massert\u001b[0m \u001b[0mv\u001b[0m\u001b[0;34m.\u001b[0m\u001b[0mname\u001b[0m \u001b[0;32min\u001b[0m \u001b[0mw\u001b[0m\u001b[0;34m\u001b[0m\u001b[0;34m\u001b[0m\u001b[0m\n\u001b[0m",
      "\u001b[0;31mAssertionError\u001b[0m: "
     ]
    }
   ],
   "source": [
    "for v in models[0].trainable_variables:\n",
    "    w = DF['weights'][0][\"0\"]\n",
    "    print(w.keys())\n",
    "    print(v.name)\n",
    "    assert v.name in w"
   ]
  },
  {
   "cell_type": "code",
   "execution_count": 13,
   "metadata": {},
   "outputs": [
    {
     "data": {
      "text/plain": [
       "{'0': {'dense/kernel:0': array([[-0.23744592],\n",
       "         [-0.00233284]]),\n",
       "  'dense_1/kernel:0': array([[-14.84159374]]),\n",
       "  'dense_1/bias:0': array([-0.01760847])},\n",
       " '1': {'dense_2/kernel:0': array([[0.00252096],\n",
       "         [0.24259086]]),\n",
       "  'dense_3/kernel:0': array([[14.51949024]]),\n",
       "  'dense_3/bias:0': array([0.00639545])}}"
      ]
     },
     "execution_count": 13,
     "metadata": {},
     "output_type": "execute_result"
    }
   ],
   "source": [
    "DF['weights'][0]"
   ]
  }
 ],
 "metadata": {
  "kernelspec": {
   "display_name": "Python 3",
   "language": "python",
   "name": "python3"
  },
  "language_info": {
   "codemirror_mode": {
    "name": "ipython",
    "version": 3
   },
   "file_extension": ".py",
   "mimetype": "text/x-python",
   "name": "python",
   "nbconvert_exporter": "python",
   "pygments_lexer": "ipython3",
   "version": "3.8.2"
  }
 },
 "nbformat": 4,
 "nbformat_minor": 4
}
