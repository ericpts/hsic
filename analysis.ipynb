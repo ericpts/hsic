{
 "cells": [
  {
   "cell_type": "code",
   "execution_count": 1,
   "metadata": {},
   "outputs": [
    {
     "name": "stderr",
     "output_type": "stream",
     "text": [
      "/home/ericpts/.local/lib/python3.8/site-packages/tqdm/std.py:668: FutureWarning: The Panel class is removed from pandas. Accessing it from the top-level namespace will also be removed in the next version\n",
      "  from pandas import Panel\n"
     ]
    }
   ],
   "source": [
    "import argparse\n",
    "import concurrent.futures\n",
    "import json\n",
    "import os\n",
    "import subprocess\n",
    "import sys\n",
    "from collections import defaultdict\n",
    "from pathlib import Path\n",
    "from typing import Any, Callable, Dict, List, Optional\n",
    "\n",
    "import dash_core_components as dcc\n",
    "import dash_html_components as html\n",
    "import gin\n",
    "import lib_analysis\n",
    "import lib_biased_mnist\n",
    "import lib_plot\n",
    "import lib_problem\n",
    "import lib_toy\n",
    "import matplotlib.pyplot as plt\n",
    "import numpy as np\n",
    "import pandas as pd\n",
    "import plotly.express as px\n",
    "import plotly.graph_objects as go\n",
    "import seaborn as sns\n",
    "import tensorflow as tf\n",
    "import tensorflow_probability as tfp\n",
    "import yaml\n",
    "from jupyter_dash import JupyterDash\n",
    "from PIL import Image\n",
    "from tqdm import tqdm\n",
    "\n",
    "external_stylesheets = [\"https://codepen.io/chriddyp/pen/bWLwgP.css\"]\n",
    "\n",
    "tqdm.pandas()\n",
    "gin.enter_interactive_mode()"
   ]
  },
  {
   "cell_type": "code",
   "execution_count": 2,
   "metadata": {},
   "outputs": [],
   "source": [
    "PROBLEM = \"biased_mnist\""
   ]
  },
  {
   "cell_type": "code",
   "execution_count": 3,
   "metadata": {},
   "outputs": [],
   "source": [
    "%load_ext autoreload\n",
    "%autoreload 2"
   ]
  },
  {
   "cell_type": "code",
   "execution_count": 5,
   "metadata": {},
   "outputs": [],
   "source": [
    "def read_df(data_root: Path) -> pd.DataFrame:\n",
    "    df_path = data_root / PROBLEM / \"df.pickle\"\n",
    "    if df_path.exists():\n",
    "        print(f\"Found cached df at {df_path}. Reusing...\", flush=True)\n",
    "        return pd.read_pickle(str(df_path))\n",
    "\n",
    "    DF = lib_analysis.read_problem(data_root, PROBLEM)\n",
    "    DF = lib_analysis.add_statistics_to_df(DF)\n",
    "\n",
    "    DF.to_pickle(str(df_path))\n",
    "    return DF"
   ]
  },
  {
   "cell_type": "code",
   "execution_count": 6,
   "metadata": {},
   "outputs": [
    {
     "name": "stdout",
     "output_type": "stream",
     "text": [
      "Found cached df at ../data/biased_mnist/df.pickle. Reusing...\n"
     ]
    }
   ],
   "source": [
    "data_root = Path(\"../data/\")\n",
    "DF = read_df(data_root)"
   ]
  },
  {
   "cell_type": "code",
   "execution_count": 8,
   "metadata": {},
   "outputs": [
    {
     "data": {
      "text/html": [
       "<div>\n",
       "<style scoped>\n",
       "    .dataframe tbody tr th:only-of-type {\n",
       "        vertical-align: middle;\n",
       "    }\n",
       "\n",
       "    .dataframe tbody tr th {\n",
       "        vertical-align: top;\n",
       "    }\n",
       "\n",
       "    .dataframe thead th {\n",
       "        text-align: right;\n",
       "    }\n",
       "</style>\n",
       "<table border=\"1\" class=\"dataframe\">\n",
       "  <thead>\n",
       "    <tr style=\"text-align: right;\">\n",
       "      <th></th>\n",
       "      <th>test_prediction_loss</th>\n",
       "      <th>test_accuracy</th>\n",
       "      <th>test_diversity_loss</th>\n",
       "      <th>test_combined_loss</th>\n",
       "      <th>test_ensemble_accuracy</th>\n",
       "      <th>train_prediction_loss</th>\n",
       "      <th>train_accuracy</th>\n",
       "      <th>train_diversity_loss</th>\n",
       "      <th>train_combined_loss</th>\n",
       "      <th>train_ensemble_accuracy</th>\n",
       "      <th>...</th>\n",
       "      <th>BiasedMnistProblem.background_noise_level</th>\n",
       "      <th>Problem.n_epochs</th>\n",
       "      <th>Problem.initial_lr</th>\n",
       "      <th>Problem.decrease_lr_at_epochs</th>\n",
       "      <th>Problem.n_models</th>\n",
       "      <th>get_weight_regularizer.strength</th>\n",
       "      <th>yaml_config_file</th>\n",
       "      <th>gin_config_file</th>\n",
       "      <th>ood_statistics</th>\n",
       "      <th>id_statistics</th>\n",
       "    </tr>\n",
       "  </thead>\n",
       "  <tbody>\n",
       "    <tr>\n",
       "      <th>888</th>\n",
       "      <td>[2.29874849319458, 5.004456043243408]</td>\n",
       "      <td>[0.11429999768733978, 0.31529998779296875]</td>\n",
       "      <td>0.007118</td>\n",
       "      <td>9.125334</td>\n",
       "      <td>0.3153</td>\n",
       "      <td>[2.2937798500061035, 0.04043296352028847]</td>\n",
       "      <td>[0.11273333430290222, 0.9943666458129883]</td>\n",
       "      <td>0.002405</td>\n",
       "      <td>2.949967</td>\n",
       "      <td>0.994367</td>\n",
       "      <td>...</td>\n",
       "      <td>0</td>\n",
       "      <td>100</td>\n",
       "      <td>0.001</td>\n",
       "      <td>[20, 40, 80]</td>\n",
       "      <td>2</td>\n",
       "      <td>0.01</td>\n",
       "      <td>/home/ericpts/work/data/biased_mnist/condition...</td>\n",
       "      <td>/home/ericpts/work/data/biased_mnist/condition...</td>\n",
       "      <td>{'overall': {'ensemble': {'accuracy': tf.Tenso...</td>\n",
       "      <td>{'overall': {'ensemble': {'accuracy': tf.Tenso...</td>\n",
       "    </tr>\n",
       "  </tbody>\n",
       "</table>\n",
       "<p>1 rows × 28 columns</p>\n",
       "</div>"
      ],
      "text/plain": [
       "                      test_prediction_loss  \\\n",
       "888  [2.29874849319458, 5.004456043243408]   \n",
       "\n",
       "                                  test_accuracy  test_diversity_loss  \\\n",
       "888  [0.11429999768733978, 0.31529998779296875]             0.007118   \n",
       "\n",
       "     test_combined_loss  test_ensemble_accuracy  \\\n",
       "888            9.125334                  0.3153   \n",
       "\n",
       "                         train_prediction_loss  \\\n",
       "888  [2.2937798500061035, 0.04043296352028847]   \n",
       "\n",
       "                                train_accuracy  train_diversity_loss  \\\n",
       "888  [0.11273333430290222, 0.9943666458129883]              0.002405   \n",
       "\n",
       "     train_combined_loss  train_ensemble_accuracy  ...  \\\n",
       "888             2.949967                 0.994367  ...   \n",
       "\n",
       "    BiasedMnistProblem.background_noise_level Problem.n_epochs  \\\n",
       "888                                         0              100   \n",
       "\n",
       "    Problem.initial_lr Problem.decrease_lr_at_epochs  Problem.n_models  \\\n",
       "888              0.001                  [20, 40, 80]                 2   \n",
       "\n",
       "     get_weight_regularizer.strength  \\\n",
       "888                             0.01   \n",
       "\n",
       "                                      yaml_config_file  \\\n",
       "888  /home/ericpts/work/data/biased_mnist/condition...   \n",
       "\n",
       "                                       gin_config_file  \\\n",
       "888  /home/ericpts/work/data/biased_mnist/condition...   \n",
       "\n",
       "                                        ood_statistics  \\\n",
       "888  {'overall': {'ensemble': {'accuracy': tf.Tenso...   \n",
       "\n",
       "                                         id_statistics  \n",
       "888  {'overall': {'ensemble': {'accuracy': tf.Tenso...  \n",
       "\n",
       "[1 rows x 28 columns]"
      ]
     },
     "execution_count": 8,
     "metadata": {},
     "output_type": "execute_result"
    }
   ],
   "source": [
    "DF.sample()"
   ]
  },
  {
   "cell_type": "code",
   "execution_count": 12,
   "metadata": {},
   "outputs": [],
   "source": [
    "problem = lib_biased_mnist.BiasedMnistProblem()\n",
    "in_dist = problem.generate_id_testing_data(include_bias=True)\n",
    "oo_dist = problem.generate_ood_testing_data(include_bias=True)\n",
    "\n",
    "\n",
    "def statistics_for_series(row: pd.Series):\n",
    "    return [\n",
    "        html.Div(\n",
    "            [html.H4(\"Out of Distribution\"), *lib_analysis.format_statistics(row[\"ood_statistics\"])]\n",
    "        ),\n",
    "        html.Div(\n",
    "            [html.H4(\"In Distribution\"), *lib_analysis.format_statistics(row[\"id_statistics\"])]\n",
    "        ),\n",
    "    ]"
   ]
  },
  {
   "cell_type": "code",
   "execution_count": 11,
   "metadata": {},
   "outputs": [
    {
     "name": "stdout",
     "output_type": "stream",
     "text": [
      "Processing data for lr 0.0001\n",
      "Processing data for lr 0.001\n",
      "Processing data for lr 0.01\n",
      "Processing data for lr 0.1\n",
      "Processing data for lr 1.0\n"
     ]
    },
    {
     "data": {
      "text/html": [
       "\n",
       "        <iframe\n",
       "            width=\"100%\"\n",
       "            height=\"650\"\n",
       "            src=\"http://127.0.0.1:8050/\"\n",
       "            frameborder=\"0\"\n",
       "            allowfullscreen\n",
       "        ></iframe>\n",
       "        "
      ],
      "text/plain": [
       "<IPython.lib.display.IFrame at 0x7f5578cacb80>"
      ]
     },
     "metadata": {},
     "output_type": "display_data"
    }
   ],
   "source": [
    "top_level_tabs = []\n",
    "\n",
    "for lr in np.unique(DF[\"Problem.initial_lr\"]):\n",
    "    print(f\"Processing data for lr {lr}\")\n",
    "    tabs_for_outer = []\n",
    "    for l_corr in np.unique(DF[\"label_correlation\"]):\n",
    "        def stats_for_lambda(lambda_: float):\n",
    "            df = (\n",
    "                DF[\n",
    "                    (DF[\"label_correlation\"] == l_corr)\n",
    "                    & (DF[\"indep\"] == \"conditional_hsic\")\n",
    "                    & (DF[\"lambda\"] == lambda_)\n",
    "                    & (DF[\"Problem.initial_lr\"] == lr)\n",
    "                ]\n",
    "                .sample(1)\n",
    "                .reset_index(drop=True)\n",
    "            )\n",
    "            return statistics_for_series(df.iloc[0])\n",
    "\n",
    "        df_for_fig = DF[\n",
    "            (DF[\"label_correlation\"] == l_corr) & (DF[\"Problem.initial_lr\"] == lr)\n",
    "        ].copy()\n",
    "\n",
    "        fig_train_diversity = lib_plot.end_to_end_plot(\n",
    "            go.Figure(),\n",
    "            df_for_fig,\n",
    "            \"train_diversity_loss\",\n",
    "            [\"indep\"],\n",
    "            f\"Train diversity loss for label correlation {l_corr}; learning rate {lr}\",\n",
    "        )\n",
    "        per_lambda_stats = html.Div(\n",
    "            [\n",
    "                dcc.Tabs(\n",
    "                    [\n",
    "                        dcc.Tab(\n",
    "                            label=f\"Lambda = {lambda_}\",\n",
    "                            children=stats_for_lambda(lambda_),\n",
    "                        )\n",
    "                        for lambda_ in np.unique(DF[\"lambda\"])\n",
    "                    ]\n",
    "                )\n",
    "            ]\n",
    "        )\n",
    "\n",
    "        tabs_for_outer.append(\n",
    "            dcc.Tab(\n",
    "                label=f\"label correlation {l_corr}\",\n",
    "                children=[\n",
    "                    dcc.Graph(figure=fig_train_diversity),\n",
    "                    per_lambda_stats,\n",
    "                ],\n",
    "            )\n",
    "        )\n",
    "\n",
    "    top_level_tabs.append(\n",
    "        dcc.Tab(label=f\"learning rate {lr}\", children=[dcc.Tabs(tabs_for_outer)],)\n",
    "    )\n",
    "\n",
    "app = JupyterDash(__name__, external_stylesheets=external_stylesheets)\n",
    "app.layout = html.Div([dcc.Tabs(top_level_tabs)])\n",
    "app.run_server(mode=\"inline\")"
   ]
  }
 ],
 "metadata": {
  "kernelspec": {
   "display_name": "Python 3",
   "language": "python",
   "name": "python3"
  },
  "language_info": {
   "codemirror_mode": {
    "name": "ipython",
    "version": 3
   },
   "file_extension": ".py",
   "mimetype": "text/x-python",
   "name": "python",
   "nbconvert_exporter": "python",
   "pygments_lexer": "ipython3",
   "version": "3.8.5"
  }
 },
 "nbformat": 4,
 "nbformat_minor": 4
}
