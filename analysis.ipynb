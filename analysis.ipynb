{
 "cells": [
  {
   "cell_type": "code",
   "execution_count": 1,
   "metadata": {},
   "outputs": [
    {
     "name": "stderr",
     "output_type": "stream",
     "text": [
      "/home/ericpts/.local/lib/python3.8/site-packages/tqdm/std.py:668: FutureWarning: The Panel class is removed from pandas. Accessing it from the top-level namespace will also be removed in the next version\n",
      "  from pandas import Panel\n"
     ]
    }
   ],
   "source": [
    "import argparse\n",
    "import concurrent.futures\n",
    "import json\n",
    "import os\n",
    "import subprocess\n",
    "import sys\n",
    "from collections import defaultdict\n",
    "from functools import reduce\n",
    "from pathlib import Path\n",
    "from typing import Any, Callable, Dict, List, Optional\n",
    "\n",
    "import dash_core_components as dcc\n",
    "import dash_html_components as html\n",
    "import gin\n",
    "import lib_analysis\n",
    "import lib_biased_mnist\n",
    "import lib_plot\n",
    "import lib_problem\n",
    "import lib_toy\n",
    "import matplotlib.pyplot as plt\n",
    "import numpy as np\n",
    "import pandas as pd\n",
    "import plotly.express as px\n",
    "import plotly.graph_objects as go\n",
    "import seaborn as sns\n",
    "import tensorflow as tf\n",
    "import tensorflow_probability as tfp\n",
    "import yaml\n",
    "from jupyter_dash import JupyterDash\n",
    "from PIL import Image\n",
    "from tqdm import tqdm\n",
    "\n",
    "external_stylesheets = [\"https://codepen.io/chriddyp/pen/bWLwgP.css\"]\n",
    "\n",
    "tqdm.pandas()\n",
    "gin.enter_interactive_mode()"
   ]
  },
  {
   "cell_type": "code",
   "execution_count": 2,
   "metadata": {},
   "outputs": [],
   "source": [
    "%load_ext autoreload\n",
    "%autoreload 2"
   ]
  },
  {
   "cell_type": "code",
   "execution_count": 3,
   "metadata": {},
   "outputs": [],
   "source": [
    "def read_df(data_root: Path, experiment_name: str) -> pd.DataFrame:\n",
    "    df_path = data_root / experiment_name / \"df.pickle\"\n",
    "    if df_path.exists():\n",
    "        print(f\"Found cached df at {df_path}. Reusing...\", flush=True)\n",
    "        return pd.read_pickle(str(df_path))\n",
    "\n",
    "    def filter_for_column_values(\n",
    "        df: pd.DataFrame, col_name: str, values: List\n",
    "    ) -> pd.DataFrame:\n",
    "        per_value_bitmask = [df[col_name] == v for v in values]\n",
    "        combined_bitmask = reduce(lambda x, y: x | y, per_value_bitmask)\n",
    "        return df[combined_bitmask]\n",
    "\n",
    "    DF = lib_analysis.read_problem(data_root, experiment_name)\n",
    "    DF = filter_for_column_values(DF, \"Problem.initial_lr\", [0.0001, 0.001, 0.01])\n",
    "    DF = filter_for_column_values(DF, \"label_correlation\", [0.9, 0.99, 0.999])\n",
    "\n",
    "    DF = lib_analysis.add_statistics_to_df(DF)\n",
    "\n",
    "    DF.to_pickle(str(df_path), protocol=4)\n",
    "    return DF"
   ]
  },
  {
   "cell_type": "code",
   "execution_count": null,
   "metadata": {},
   "outputs": [
    {
     "name": "stderr",
     "output_type": "stream",
     "text": [
      " 76%|███████▌  | 864/1134 [1:20:46<21:51,  4.86s/it]  "
     ]
    }
   ],
   "source": [
    "data_root = Path(\"../data/\")\n",
    "DF = read_df(data_root, \"biased_mnist\")"
   ]
  },
  {
   "cell_type": "code",
   "execution_count": null,
   "metadata": {},
   "outputs": [],
   "source": [
    "def statistics_for_series(row: pd.Series):\n",
    "    return [\n",
    "        html.Div(\n",
    "            [\n",
    "                html.H4(\"Out of Distribution\"),\n",
    "                *lib_analysis.format_statistics(row[\"ood_statistics\"]),\n",
    "            ]\n",
    "        ),\n",
    "        html.Div(\n",
    "            [\n",
    "                html.H4(\"In Distribution\"),\n",
    "                *lib_analysis.format_statistics(row[\"id_statistics\"]),\n",
    "            ]\n",
    "        ),\n",
    "    ]"
   ]
  },
  {
   "cell_type": "code",
   "execution_count": null,
   "metadata": {},
   "outputs": [],
   "source": [
    "top_level_tabs = []\n",
    "\n",
    "indep = \"conditional_cka\"\n",
    "\n",
    "for lr in [0.0001, 0.001, 0.01]:\n",
    "    print(f\"Processing data for lr {lr}\")\n",
    "    tabs_for_outer = []\n",
    "    for l_corr in [0.9, 0.99, 0.999]:\n",
    "\n",
    "        def stats_for_lambda(lambda_: float):\n",
    "            df = (\n",
    "                DF[\n",
    "                    (DF[\"label_correlation\"] == l_corr)\n",
    "                    & (DF[\"indep\"] == indep)\n",
    "                    & (DF[\"lambda\"] == lambda_)\n",
    "                    & (DF[\"Problem.initial_lr\"] == lr)\n",
    "                ]\n",
    "                .sample(1)\n",
    "                .reset_index(drop=True)\n",
    "            )\n",
    "            return statistics_for_series(df.iloc[0])\n",
    "\n",
    "        df_for_fig = DF[\n",
    "            (DF[\"label_correlation\"] == l_corr) & (DF[\"Problem.initial_lr\"] == lr)\n",
    "        ].copy()\n",
    "\n",
    "        fig_train_diversity = lib_plot.end_to_end_plot(\n",
    "            go.Figure(),\n",
    "            df_for_fig,\n",
    "            \"train_diversity_loss\",\n",
    "            [\"indep\"],\n",
    "            f\"Train diversity loss for label correlation {l_corr}; learning rate {lr}\",\n",
    "        )\n",
    "\n",
    "        fig_id_disagreement = lib_plot.end_to_end_plot(\n",
    "            go.Figure(),\n",
    "            df_for_fig,\n",
    "            \"id_disagreement_rate\",\n",
    "            [\"indep\"],\n",
    "            f\"ID Disagreement rate for label correlation {l_corr}; learning rate {lr}\",\n",
    "        )\n",
    "\n",
    "        fig_ood_disagreement = lib_plot.end_to_end_plot(\n",
    "            go.Figure(),\n",
    "            df_for_fig,\n",
    "            \"ood_disagreement_rate\",\n",
    "            [\"indep\"],\n",
    "            f\"OOD Disagreement rate for label correlation {l_corr}; learning rate {lr}\",\n",
    "        )\n",
    "\n",
    "        per_lambda_stats = html.Div(\n",
    "            [\n",
    "                dcc.Tabs(\n",
    "                    [\n",
    "                        dcc.Tab(\n",
    "                            label=f\"Lambda = {lambda_}\",\n",
    "                            children=stats_for_lambda(lambda_),\n",
    "                        )\n",
    "                        for lambda_ in np.unique(DF[\"lambda\"])\n",
    "                    ]\n",
    "                )\n",
    "            ]\n",
    "        )\n",
    "\n",
    "        tabs_for_outer.append(\n",
    "            dcc.Tab(\n",
    "                label=f\"label correlation {l_corr}\",\n",
    "                children=[\n",
    "                    dcc.Graph(figure=fig_train_diversity),\n",
    "                    dcc.Graph(figure=fig_id_disagreement),\n",
    "                    dcc.Graph(figure=fig_ood_disagreement),\n",
    "                    per_lambda_stats,\n",
    "                ],\n",
    "            )\n",
    "        )\n",
    "\n",
    "    top_level_tabs.append(\n",
    "        dcc.Tab(label=f\"learning rate {lr}\", children=[dcc.Tabs(tabs_for_outer)],)\n",
    "    )\n",
    "\n",
    "app = JupyterDash(__name__, external_stylesheets=external_stylesheets)\n",
    "app.layout = html.Div([dcc.Tabs(top_level_tabs)])\n",
    "app.run_server(mode=\"inline\")"
   ]
  },
  {
   "cell_type": "code",
   "execution_count": null,
   "metadata": {},
   "outputs": [],
   "source": []
  }
 ],
 "metadata": {
  "kernelspec": {
   "display_name": "Python 3",
   "language": "python",
   "name": "python3"
  },
  "language_info": {
   "codemirror_mode": {
    "name": "ipython",
    "version": 3
   },
   "file_extension": ".py",
   "mimetype": "text/x-python",
   "name": "python",
   "nbconvert_exporter": "python",
   "pygments_lexer": "ipython3",
   "version": "3.8.5"
  }
 },
 "nbformat": 4,
 "nbformat_minor": 4
}
